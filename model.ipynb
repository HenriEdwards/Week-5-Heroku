{
 "cells": [
  {
   "cell_type": "markdown",
   "id": "8fa567dd",
   "metadata": {},
   "source": [
    "## Salary Predictions - Flask\n",
    "Data Glacier - Henri Edwards\n",
    "\n",
    "Prediction on Annual Salary given work experience."
   ]
  },
  {
   "cell_type": "markdown",
   "id": "001962ba",
   "metadata": {},
   "source": [
    "<a id=\"cont\"></a>\n",
    "\n",
    "### Table of Contents\n",
    "\n",
    "<a href=#1>1. Importing Packages</a>\n",
    "\n",
    "<a href=#2>2. Loading the Data</a>\n",
    "\n",
    "<a href=#4>4. Model Building</a>"
   ]
  },
  {
   "cell_type": "markdown",
   "id": "a1c2de6f",
   "metadata": {},
   "source": [
    "### 1. Importing Packages\n",
    "<a class=\"anchor\" id=\"1\"></a>\n",
    "<a href=#cont>Back to Table of Contents</a>"
   ]
  },
  {
   "cell_type": "code",
   "execution_count": 1,
   "id": "502b09c4",
   "metadata": {},
   "outputs": [],
   "source": [
    "import numpy as np\n",
    "import pandas as pd\n",
    "import sklearn\n",
    "from sklearn.model_selection import train_test_split\n",
    "from sklearn import datasets\n",
    "from sklearn.linear_model import LinearRegression\n",
    "import matplotlib.pyplot as plt\n",
    "from sklearn import metrics\n",
    "import pickle"
   ]
  },
  {
   "cell_type": "markdown",
   "id": "612c9e48",
   "metadata": {},
   "source": [
    "### 2. Loading the Data\n",
    "<a class=\"anchor\" id=\"2\"></a>\n",
    "<a href=#cont>Back to Table of Contents</a>"
   ]
  },
  {
   "cell_type": "markdown",
   "id": "2c6b9674",
   "metadata": {},
   "source": [
    "- **Salary_Data.csv** – Salaries & Experience"
   ]
  },
  {
   "cell_type": "code",
   "execution_count": 2,
   "id": "757daa0c",
   "metadata": {},
   "outputs": [],
   "source": [
    "df = pd.read_csv(\"Salary_Data.csv\")"
   ]
  },
  {
   "cell_type": "markdown",
   "id": "701e71a5",
   "metadata": {},
   "source": [
    "### 3. Model Building\n",
    "<a class=\"anchor\" id=\"2\"></a>\n",
    "<a href=#cont>Back to Table of Contents</a>"
   ]
  },
  {
   "cell_type": "code",
   "execution_count": 3,
   "id": "f3dc286b",
   "metadata": {},
   "outputs": [
    {
     "data": {
      "text/html": [
       "<div>\n",
       "<style scoped>\n",
       "    .dataframe tbody tr th:only-of-type {\n",
       "        vertical-align: middle;\n",
       "    }\n",
       "\n",
       "    .dataframe tbody tr th {\n",
       "        vertical-align: top;\n",
       "    }\n",
       "\n",
       "    .dataframe thead th {\n",
       "        text-align: right;\n",
       "    }\n",
       "</style>\n",
       "<table border=\"1\" class=\"dataframe\">\n",
       "  <thead>\n",
       "    <tr style=\"text-align: right;\">\n",
       "      <th></th>\n",
       "      <th>YearsExperience</th>\n",
       "      <th>Salary</th>\n",
       "    </tr>\n",
       "  </thead>\n",
       "  <tbody>\n",
       "    <tr>\n",
       "      <th>0</th>\n",
       "      <td>1.1</td>\n",
       "      <td>39343.0</td>\n",
       "    </tr>\n",
       "    <tr>\n",
       "      <th>1</th>\n",
       "      <td>1.3</td>\n",
       "      <td>46205.0</td>\n",
       "    </tr>\n",
       "    <tr>\n",
       "      <th>2</th>\n",
       "      <td>1.5</td>\n",
       "      <td>37731.0</td>\n",
       "    </tr>\n",
       "  </tbody>\n",
       "</table>\n",
       "</div>"
      ],
      "text/plain": [
       "   YearsExperience   Salary\n",
       "0              1.1  39343.0\n",
       "1              1.3  46205.0\n",
       "2              1.5  37731.0"
      ]
     },
     "execution_count": 3,
     "metadata": {},
     "output_type": "execute_result"
    }
   ],
   "source": [
    "df.head(3)"
   ]
  },
  {
   "cell_type": "code",
   "execution_count": 5,
   "id": "5f1204d9",
   "metadata": {},
   "outputs": [
    {
     "data": {
      "text/plain": [
       "(30, 2)"
      ]
     },
     "execution_count": 5,
     "metadata": {},
     "output_type": "execute_result"
    }
   ],
   "source": [
    "df.shape"
   ]
  },
  {
   "cell_type": "code",
   "execution_count": 6,
   "id": "e7b865b5",
   "metadata": {},
   "outputs": [],
   "source": [
    "# create targets and features dataset\n",
    "y = df['Salary']\n",
    "X = df.drop('Salary', axis=1)"
   ]
  },
  {
   "cell_type": "code",
   "execution_count": 7,
   "id": "8e67cb36",
   "metadata": {},
   "outputs": [],
   "source": [
    "# split data into test and train sets\n",
    "X_train, X_test, y_train, y_test = train_test_split(X, y, test_size=0.1, random_state=50, shuffle=False)"
   ]
  },
  {
   "cell_type": "code",
   "execution_count": 8,
   "id": "5029f03e",
   "metadata": {},
   "outputs": [
    {
     "data": {
      "text/plain": [
       "LinearRegression()"
      ]
     },
     "execution_count": 8,
     "metadata": {},
     "output_type": "execute_result"
    }
   ],
   "source": [
    "# train linear regression model\n",
    "lm = LinearRegression()\n",
    "lm.fit(X_train, y_train)"
   ]
  },
  {
   "cell_type": "code",
   "execution_count": 9,
   "id": "a671fe3b",
   "metadata": {},
   "outputs": [
    {
     "data": {
      "text/plain": [
       "4466.547189342462"
      ]
     },
     "execution_count": 9,
     "metadata": {},
     "output_type": "execute_result"
    }
   ],
   "source": [
    "# model performance\n",
    "lm_predict = lm.predict(X_test)\n",
    "lm_RMSE = metrics.mean_squared_error(y_test, lm_predict, squared=False)\n",
    "lm_RMSE"
   ]
  },
  {
   "cell_type": "code",
   "execution_count": 10,
   "id": "7fa2ebab",
   "metadata": {},
   "outputs": [],
   "source": [
    "# save the model to disk\n",
    "with open('model.pkl', 'wb') as files:\n",
    "    pickle.dump(lm, files)"
   ]
  }
 ],
 "metadata": {
  "kernelspec": {
   "display_name": "Python 3",
   "language": "python",
   "name": "python3"
  },
  "language_info": {
   "codemirror_mode": {
    "name": "ipython",
    "version": 3
   },
   "file_extension": ".py",
   "mimetype": "text/x-python",
   "name": "python",
   "nbconvert_exporter": "python",
   "pygments_lexer": "ipython3",
   "version": "3.8.8"
  }
 },
 "nbformat": 4,
 "nbformat_minor": 5
}
