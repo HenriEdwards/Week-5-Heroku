{
 "cells": [
  {
   "cell_type": "markdown",
   "id": "8fa567dd",
   "metadata": {},
   "source": [
    "## Salary Predictions - Flask\n",
    "Data Glacier - Henri Edwards\n",
    "\n",
    "Prediction on Annual Salary given work experience.\n",
    "\n",
    "LISUM10: 30"
   ]
  },
  {
   "cell_type": "markdown",
   "id": "001962ba",
   "metadata": {},
   "source": [
    "<a id=\"cont\"></a>\n",
    "\n",
    "### Table of Contents\n",
    "\n",
    "<a href=#1>1. Importing Packages</a>\n",
    "\n",
    "<a href=#2>2. Loading the Data</a>\n",
    "\n",
    "<a href=#4>4. Model Building</a>"
   ]
  },
  {
   "cell_type": "markdown",
   "id": "a1c2de6f",
   "metadata": {},
   "source": [
    "### 1. Importing Packages\n",
    "<a class=\"anchor\" id=\"1\"></a>\n",
    "<a href=#cont>Back to Table of Contents</a>"
   ]
  },
  {
   "cell_type": "code",
   "execution_count": 1,
   "id": "502b09c4",
   "metadata": {},
   "outputs": [],
   "source": [
    "import numpy as np\n",
    "import pandas as pd\n",
    "import sklearn\n",
    "from sklearn.model_selection import train_test_split\n",
    "from sklearn.linear_model import LinearRegression\n",
    "import matplotlib.pyplot as plt\n",
    "import pickle"
   ]
  },
  {
   "cell_type": "markdown",
   "id": "612c9e48",
   "metadata": {},
   "source": [
    "### 2. Loading the Data\n",
    "<a class=\"anchor\" id=\"2\"></a>\n",
    "<a href=#cont>Back to Table of Contents</a>"
   ]
  },
  {
   "cell_type": "markdown",
   "id": "2c6b9674",
   "metadata": {},
   "source": [
    "- **Salary_Data.csv** – Salaries & Experience"
   ]
  },
  {
   "cell_type": "code",
   "execution_count": 2,
   "id": "757daa0c",
   "metadata": {},
   "outputs": [],
   "source": [
    "df = pd.read_csv(\"Salary_Data.csv\")"
   ]
  },
  {
   "cell_type": "markdown",
   "id": "701e71a5",
   "metadata": {},
   "source": [
    "### 3. Model Building\n",
    "<a class=\"anchor\" id=\"2\"></a>\n",
    "<a href=#cont>Back to Table of Contents</a>"
   ]
  },
  {
   "cell_type": "code",
   "execution_count": 3,
   "id": "e7b865b5",
   "metadata": {},
   "outputs": [],
   "source": [
    "# create targets and features dataset\n",
    "y = df['Salary']\n",
    "X = df.drop('Salary', axis=1)"
   ]
  },
  {
   "cell_type": "code",
   "execution_count": 4,
   "id": "8e67cb36",
   "metadata": {},
   "outputs": [],
   "source": [
    "# split data into test and train sets\n",
    "X_train, X_test, y_train, y_test = train_test_split(X, y, test_size=0.1, random_state=50, shuffle=False)"
   ]
  },
  {
   "cell_type": "code",
   "execution_count": 5,
   "id": "5029f03e",
   "metadata": {},
   "outputs": [
    {
     "data": {
      "text/plain": [
       "LinearRegression()"
      ]
     },
     "execution_count": 5,
     "metadata": {},
     "output_type": "execute_result"
    }
   ],
   "source": [
    "# train linear regression model\n",
    "lm = LinearRegression()\n",
    "lm.fit(X_train, y_train)"
   ]
  },
  {
   "cell_type": "code",
   "execution_count": 6,
   "id": "7fa2ebab",
   "metadata": {},
   "outputs": [],
   "source": [
    "# save the model to disk\n",
    "with open('model.pkl', 'wb') as files:\n",
    "    pickle.dump(lm, files)"
   ]
  }
 ],
 "metadata": {
  "kernelspec": {
   "display_name": "Python 3",
   "language": "python",
   "name": "python3"
  },
  "language_info": {
   "codemirror_mode": {
    "name": "ipython",
    "version": 3
   },
   "file_extension": ".py",
   "mimetype": "text/x-python",
   "name": "python",
   "nbconvert_exporter": "python",
   "pygments_lexer": "ipython3",
   "version": "3.8.8"
  }
 },
 "nbformat": 4,
 "nbformat_minor": 5
}
